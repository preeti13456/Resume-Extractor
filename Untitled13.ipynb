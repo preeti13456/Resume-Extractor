{
  "nbformat": 4,
  "nbformat_minor": 0,
  "metadata": {
    "colab": {
      "name": "Untitled13.ipynb",
      "provenance": [],
      "authorship_tag": "ABX9TyPVXq/H/K6lbBaAXblvgzFJ",
      "include_colab_link": true
    },
    "kernelspec": {
      "name": "python3",
      "display_name": "Python 3"
    }
  },
  "cells": [
    {
      "cell_type": "markdown",
      "metadata": {
        "id": "view-in-github",
        "colab_type": "text"
      },
      "source": [
        "<a href=\"https://colab.research.google.com/github/preeti13456/Resume-Extractor/blob/master/Untitled13.ipynb\" target=\"_parent\"><img src=\"https://colab.research.google.com/assets/colab-badge.svg\" alt=\"Open In Colab\"/></a>"
      ]
    },
    {
      "cell_type": "code",
      "metadata": {
        "id": "MBuNSL2AL_hO",
        "colab_type": "code",
        "outputId": "27abe2c5-33ab-48bd-b77a-e42e71fd2c40",
        "colab": {
          "base_uri": "https://localhost:8080/",
          "height": 1000
        }
      },
      "source": [
        "import re\n",
        "from urllib import request   #for downloading data to url\n",
        "from bs4 import BeautifulSoup \n",
        "import matplotlib.pyplot as plt\n",
        "import nltk\n",
        "nltk.download('punkt')\n",
        "nltk.download('stopwords')\n",
        "from nltk.tokenize import word_tokenize\n",
        "from nltk.tokenize import sent_tokenize\n",
        "from nltk.corpus import stopwords\n",
        "from nltk.stem import WordNetLemmatizer\n",
        "!pip install textract\n",
        "!apt-get install python-dev libxml2-dev libxslt1-dev antiword unrtf poppler-utils \\\n",
        "     pstotext tesseract-ocr \\\n",
        "     flac ffmpeg lame libmad0 libsox-fmt-mp3 sox libjpeg-dev swig libasound2-dev libpulse-dev\n",
        "!pip install git+https://github.com/deanmalmgren/textract\n",
        "import textract"
      ],
      "execution_count": 23,
      "outputs": [
        {
          "output_type": "stream",
          "text": [
            "[nltk_data] Downloading package punkt to /root/nltk_data...\n",
            "[nltk_data]   Package punkt is already up-to-date!\n",
            "[nltk_data] Downloading package stopwords to /root/nltk_data...\n",
            "[nltk_data]   Package stopwords is already up-to-date!\n",
            "Requirement already satisfied: textract in /usr/local/lib/python3.6/dist-packages (1.6.3)\n",
            "Requirement already satisfied: chardet==3.0.4 in /usr/local/lib/python3.6/dist-packages (from textract) (3.0.4)\n",
            "Requirement already satisfied: docx2txt==0.8 in /usr/local/lib/python3.6/dist-packages (from textract) (0.8)\n",
            "Requirement already satisfied: EbookLib==0.17.1 in /usr/local/lib/python3.6/dist-packages (from textract) (0.17.1)\n",
            "Requirement already satisfied: six==1.12.0 in /usr/local/lib/python3.6/dist-packages (from textract) (1.12.0)\n",
            "Requirement already satisfied: extract-msg==0.23.1 in /usr/local/lib/python3.6/dist-packages (from textract) (0.23.1)\n",
            "Requirement already satisfied: SpeechRecognition==3.8.1 in /usr/local/lib/python3.6/dist-packages (from textract) (3.8.1)\n",
            "Requirement already satisfied: argcomplete==1.10.0 in /usr/local/lib/python3.6/dist-packages (from textract) (1.10.0)\n",
            "Requirement already satisfied: xlrd==1.2.0 in /usr/local/lib/python3.6/dist-packages (from textract) (1.2.0)\n",
            "Requirement already satisfied: python-pptx==0.6.18 in /usr/local/lib/python3.6/dist-packages (from textract) (0.6.18)\n",
            "Requirement already satisfied: pdfminer.six==20181108 in /usr/local/lib/python3.6/dist-packages (from textract) (20181108)\n",
            "Requirement already satisfied: beautifulsoup4==4.8.0 in /usr/local/lib/python3.6/dist-packages (from textract) (4.8.0)\n",
            "Requirement already satisfied: lxml in /usr/local/lib/python3.6/dist-packages (from EbookLib==0.17.1->textract) (4.2.6)\n",
            "Requirement already satisfied: imapclient==2.1.0 in /usr/local/lib/python3.6/dist-packages (from extract-msg==0.23.1->textract) (2.1.0)\n",
            "Requirement already satisfied: olefile==0.46 in /usr/local/lib/python3.6/dist-packages (from extract-msg==0.23.1->textract) (0.46)\n",
            "Requirement already satisfied: tzlocal==1.5.1 in /usr/local/lib/python3.6/dist-packages (from extract-msg==0.23.1->textract) (1.5.1)\n",
            "Requirement already satisfied: Pillow>=3.3.2 in /usr/local/lib/python3.6/dist-packages (from python-pptx==0.6.18->textract) (7.0.0)\n",
            "Requirement already satisfied: XlsxWriter>=0.5.7 in /usr/local/lib/python3.6/dist-packages (from python-pptx==0.6.18->textract) (1.2.8)\n",
            "Requirement already satisfied: sortedcontainers in /usr/local/lib/python3.6/dist-packages (from pdfminer.six==20181108->textract) (2.1.0)\n",
            "Requirement already satisfied: pycryptodome in /usr/local/lib/python3.6/dist-packages (from pdfminer.six==20181108->textract) (3.9.7)\n",
            "Requirement already satisfied: soupsieve>=1.2 in /usr/local/lib/python3.6/dist-packages (from beautifulsoup4==4.8.0->textract) (2.0)\n",
            "Requirement already satisfied: pytz in /usr/local/lib/python3.6/dist-packages (from tzlocal==1.5.1->extract-msg==0.23.1->textract) (2018.9)\n",
            "Reading package lists... Done\n",
            "Building dependency tree       \n",
            "Reading state information... Done\n",
            "libjpeg-dev is already the newest version (8c-2ubuntu8).\n",
            "python-dev is already the newest version (2.7.15~rc1-1).\n",
            "antiword is already the newest version (0.37-11build1).\n",
            "flac is already the newest version (1.3.2-1).\n",
            "lame is already the newest version (3.100-2).\n",
            "pstotext is already the newest version (1.9-6build1).\n",
            "swig is already the newest version (3.0.12-1).\n",
            "tesseract-ocr is already the newest version (4.00~git2288-10f4998a-2).\n",
            "unrtf is already the newest version (0.21.9-clean-3).\n",
            "libasound2-dev is already the newest version (1.1.3-5ubuntu0.4).\n",
            "libpulse-dev is already the newest version (1:11.1-1ubuntu7.4).\n",
            "libxml2-dev is already the newest version (2.9.4+dfsg1-6.1ubuntu1.3).\n",
            "libxslt1-dev is already the newest version (1.1.29-5ubuntu0.2).\n",
            "poppler-utils is already the newest version (0.62.0-2ubuntu2.10).\n",
            "ffmpeg is already the newest version (7:3.4.6-0ubuntu0.18.04.1).\n",
            "libmad0 is already the newest version (0.15.1b-9ubuntu18.04.1).\n",
            "libsox-fmt-mp3 is already the newest version (14.4.2-3ubuntu0.18.04.1).\n",
            "sox is already the newest version (14.4.2-3ubuntu0.18.04.1).\n",
            "0 upgraded, 0 newly installed, 0 to remove and 25 not upgraded.\n",
            "Collecting git+https://github.com/deanmalmgren/textract\n",
            "  Cloning https://github.com/deanmalmgren/textract to /tmp/pip-req-build-lg58bcib\n",
            "  Running command git clone -q https://github.com/deanmalmgren/textract /tmp/pip-req-build-lg58bcib\n",
            "Requirement already satisfied (use --upgrade to upgrade): textract==1.6.3 from git+https://github.com/deanmalmgren/textract in /usr/local/lib/python3.6/dist-packages\n",
            "Requirement already satisfied: argcomplete==1.10.0 in /usr/local/lib/python3.6/dist-packages (from textract==1.6.3) (1.10.0)\n",
            "Requirement already satisfied: beautifulsoup4==4.8.0 in /usr/local/lib/python3.6/dist-packages (from textract==1.6.3) (4.8.0)\n",
            "Requirement already satisfied: chardet==3.0.4 in /usr/local/lib/python3.6/dist-packages (from textract==1.6.3) (3.0.4)\n",
            "Requirement already satisfied: docx2txt==0.8 in /usr/local/lib/python3.6/dist-packages (from textract==1.6.3) (0.8)\n",
            "Requirement already satisfied: EbookLib==0.17.1 in /usr/local/lib/python3.6/dist-packages (from textract==1.6.3) (0.17.1)\n",
            "Requirement already satisfied: extract-msg==0.23.1 in /usr/local/lib/python3.6/dist-packages (from textract==1.6.3) (0.23.1)\n",
            "Requirement already satisfied: pdfminer.six==20181108 in /usr/local/lib/python3.6/dist-packages (from textract==1.6.3) (20181108)\n",
            "Requirement already satisfied: python-pptx==0.6.18 in /usr/local/lib/python3.6/dist-packages (from textract==1.6.3) (0.6.18)\n",
            "Requirement already satisfied: six==1.12.0 in /usr/local/lib/python3.6/dist-packages (from textract==1.6.3) (1.12.0)\n",
            "Requirement already satisfied: SpeechRecognition==3.8.1 in /usr/local/lib/python3.6/dist-packages (from textract==1.6.3) (3.8.1)\n",
            "Requirement already satisfied: xlrd==1.2.0 in /usr/local/lib/python3.6/dist-packages (from textract==1.6.3) (1.2.0)\n",
            "Requirement already satisfied: soupsieve>=1.2 in /usr/local/lib/python3.6/dist-packages (from beautifulsoup4==4.8.0->textract==1.6.3) (2.0)\n",
            "Requirement already satisfied: lxml in /usr/local/lib/python3.6/dist-packages (from EbookLib==0.17.1->textract==1.6.3) (4.2.6)\n",
            "Requirement already satisfied: imapclient==2.1.0 in /usr/local/lib/python3.6/dist-packages (from extract-msg==0.23.1->textract==1.6.3) (2.1.0)\n",
            "Requirement already satisfied: olefile==0.46 in /usr/local/lib/python3.6/dist-packages (from extract-msg==0.23.1->textract==1.6.3) (0.46)\n",
            "Requirement already satisfied: tzlocal==1.5.1 in /usr/local/lib/python3.6/dist-packages (from extract-msg==0.23.1->textract==1.6.3) (1.5.1)\n",
            "Requirement already satisfied: sortedcontainers in /usr/local/lib/python3.6/dist-packages (from pdfminer.six==20181108->textract==1.6.3) (2.1.0)\n",
            "Requirement already satisfied: pycryptodome in /usr/local/lib/python3.6/dist-packages (from pdfminer.six==20181108->textract==1.6.3) (3.9.7)\n",
            "Requirement already satisfied: Pillow>=3.3.2 in /usr/local/lib/python3.6/dist-packages (from python-pptx==0.6.18->textract==1.6.3) (7.0.0)\n",
            "Requirement already satisfied: XlsxWriter>=0.5.7 in /usr/local/lib/python3.6/dist-packages (from python-pptx==0.6.18->textract==1.6.3) (1.2.8)\n",
            "Requirement already satisfied: pytz in /usr/local/lib/python3.6/dist-packages (from tzlocal==1.5.1->extract-msg==0.23.1->textract==1.6.3) (2018.9)\n",
            "Building wheels for collected packages: textract\n",
            "  Building wheel for textract (setup.py) ... \u001b[?25l\u001b[?25hdone\n",
            "  Created wheel for textract: filename=textract-1.6.3-cp36-none-any.whl size=22584 sha256=894ef2031b624259ce8e196451e2f679550f0d01792e78f10c94d517da3d33fa\n",
            "  Stored in directory: /tmp/pip-ephem-wheel-cache-vazu8vaf/wheels/2d/96/77/12db71c19007995a74cda308294e20633470a9a0a3f40f9e21\n",
            "Successfully built textract\n"
          ],
          "name": "stdout"
        }
      ]
    },
    {
      "cell_type": "code",
      "metadata": {
        "id": "TW4yCzubMDGk",
        "colab_type": "code",
        "colab": {}
      },
      "source": [
        "import textract\n",
        "\n",
        "text = textract.process(\"/content/1.doc\")\n",
        "text = text.decode(\"utf-8\")"
      ],
      "execution_count": 0,
      "outputs": []
    },
    {
      "cell_type": "code",
      "metadata": {
        "id": "xd88ZIhug0aT",
        "colab_type": "code",
        "outputId": "78b56802-8691-43fa-86d7-2815bd17eb31",
        "colab": {
          "base_uri": "https://localhost:8080/",
          "height": 1000
        }
      },
      "source": [
        "t = print(text)"
      ],
      "execution_count": 3,
      "outputs": [
        {
          "output_type": "stream",
          "text": [
            "\n",
            "DEEPAK KUMAR TIWARY\n",
            "Mobile:     +91-705-153-8900/+91-989-768-3891\n",
            "E-Mail:      kumardeepak123t@gmail.com\n",
            "[pic]Career objective\n",
            "\n",
            "Qualified Professional with Degree in Mechanical Engineering, managing day\n",
            "to day operational aspects of projects by effectively applying\n",
            "methodologies that enforce project standard and minimize exposure and risks\n",
            "on projects.\n",
            "\n",
            "[pic]\n",
            "Profile Summary\n",
            "\n",
            "    • Bachelors in Mechanical Engineering with nearly 2 years & 8 months of\n",
            "      experience in execution, design & in implementing technical solutions\n",
            "      for constructing Solar PV Plants, Distribution & Sub Transmission work\n",
            "      projects.\n",
            "    • Currently associated with Rays Power Infra Pvt. Ltd., Srinagar as\n",
            "      Project In charge, creating & executing project work plans and\n",
            "      maximizing operational result and profits.\n",
            "    • Comprehensive knowledge of Solar PV Plant construction, Distribution &\n",
            "      Sub Transmission works specification & regulations.\n",
            "    • Performed cost analysis of subcontractors by reviewing materials,\n",
            "      subcontractor invoices for approval.\n",
            "    • Proven skills in effectively supervising, training & scheduling\n",
            "      company employees with contractors & subcontractors to mediate\n",
            "      conflicts.\n",
            "[pic]\n",
            "Core  Competencies\n",
            "    • Project Management\n",
            "    • Project Execution\n",
            "    • Project Liasoning\n",
            "    • Site Engineering\n",
            "    • Procurement & Construction\n",
            "    • Estimation\n",
            "    • Budget & Forecasting\n",
            "    • Quality Control\n",
            "    • Client Relationship Management\n",
            "[pic]Experience\n",
            "\n",
            "1\n",
            "\n",
            "\n",
            "2 1. Period:           December 2016 to till now\n",
            "\n",
            "    Organization:      Rays Power Infra Pvt. Ltd. (Solar EPC), Jaipur  India\n",
            "\n",
            "    Client:      Jammu &  Kashmir  Power  Development  Department,  Srinagar\n",
            "India\n",
            "    Position Held:     Project In charge\n",
            "    Project Handling:  R-APDRP Part-B Project Anantnag J&K  (Distribution  &\n",
            "                 Sub Transmission works)\n",
            "\n",
            "Key Result Areas\n",
            "    • Managing project employees, including in-house, external contractors\n",
            "      and sub-contractors, attending meetings and discussing project details\n",
            "      with clients & contractors.\n",
            "    • Developing project baselines; monitoring & controlling projects with\n",
            "      respect to cost, resource deploying, and time over runs and quality\n",
            "      compliance.\n",
            "    • Preparing monthly reports detailing progress on engineering,\n",
            "      procurement & commissioning activities.\n",
            "    • Coordinating with the client & consultants for drawings and approvals.\n",
            "    • Conducting delay analysis and risk analysis as part of the project\n",
            "      release process.\n",
            "\n",
            "\n",
            "Accomplishment\n",
            "    • Obtained statutory approvals from client (J&K State Electricity Board)\n",
            "      despite facing technical challenges in GTP, Credentials, QAP, Audit\n",
            "      Sheets of Sub vendors for procurement.\n",
            "\n",
            "2. Period:       March 2016 to November 2016\n",
            "     Organization:       Aarvi  Encon  Pvt.   Ltd.   (Engineering   Manpower\n",
            "Outsourcing Company)\n",
            "    Client:                     Gamesa Wind Turbines Pvt. Ltd. (Solar  EPC),\n",
            "Chennai India\n",
            "    Position Held:     Project Engineer\n",
            "    Project Handled:   (1) 2.25 MW Solar Project Roorkee(U.K)\n",
            "                                     (2)  2  x   2.25   MW   Solar   Project\n",
            "                 Dakpathar(U.K)\n",
            "                                    (3) 1.5 MW Solar Project Dhakrani (U.K)\n",
            "\n",
            "\n",
            "Key Result Areas\n",
            "    • Assisted Project Manager in sustaining Solar PV Power Plant\n",
            "      Construction.\n",
            "    • Standard penetration test, Site Survey with DGPS & leveling of the\n",
            "      land.\n",
            "    • Site Store establishment, preservation, issue & disposal.\n",
            "    • Ensured that all engineering design conformed to plant design\n",
            "      specifications.\n",
            "    • On site design changes for work feasibility.\n",
            "    • Responsible for the several tests like pull out, lateral & cube test.\n",
            "    • Erection & Construction work of DC side, AC side, Module Mounting\n",
            "      Structure, Inverter room, foundation for transformer, HT panel and\n",
            "      cubical meter at Bay side.\n",
            "    • Erection of 11KV (AB Cable) & 33 KV (ACSR) transmission line.\n",
            "    • Negotiated with contractors & suppliers for materials & services and\n",
            "      ensuring each stage of the project progresses on-time and within\n",
            "      budget.\n",
            "    • Participated in project review meetings and liaised with clients,\n",
            "      consultants & subcontractors for evaluating project progress & de-\n",
            "      bottlenecking.\n",
            "    • Maintained material track record at site, prepared checklists,\n",
            "      technical plans & daily progress report.\n",
            "\n",
            "\n",
            "Accomplishments\n",
            "    • Successfully commissioned the 250 KW out of 2.25 MW within a month at\n",
            "      Roorkee Site.\n",
            "    • Worked in loose soil condition where piling was not possible for\n",
            "      module mounting structure, it was done with a new concept i.e. open\n",
            "      cast foundation.\n",
            "    • Successfully completed the Redwood Solar PV Project at Roorkee within\n",
            "      specified deadlines; the project cost was INR 15 Crores.\n",
            "    • Successfully completed the Redwood Solar PV Project at Dakpathar\n",
            "      (Uttrakhand) within specified deadlines; the project cost was INR 30\n",
            "      Crores.\n",
            "    • Successfully completed the Redwood Solar PV Project at Dhakrani\n",
            "      (Uttrakhand) within specified deadlines; the project cost was INR 11\n",
            "      Crores.\n",
            "\n",
            "\n",
            "\n",
            "\n",
            "\n",
            "     4 3. Period:            August 2014 to January 2016\n",
            "\n",
            "    Organization:      S.R Turbo Energy Pvt. Ltd.\n",
            "    Client:      Bharat Heavy Electrical Ltd.\n",
            "    Position Held:     Site Engineer\n",
            "    Project Handled:   3 x 90.3 MW  Reliance  Thermal  Power  Project  Dahej\n",
            "                 (Gujarat)\n",
            "\n",
            "Key Result Areas\n",
            "    • Responsible for the erection of steam turbine & auxiliaries\n",
            "    • Perform inspection of incoming material as per project requirement.\n",
            "    • Erection and execution of Deaerator, Main oil tank, Boiler feed pump\n",
            "      etc.\n",
            "    • Carry out of inspection of structural fabrication work.\n",
            "    • Material Planning & scheduling.\n",
            "    • Planning and executing of the work so as to achieve the\n",
            "      targets as planned.\n",
            "    • Allotting works to efficient contractors.\n",
            "[pic]\n",
            "\n",
            "Certifications\n",
            "\n",
            "1.  Thermal Power Plant Professional course from S.R Thermonix New Delhi\n",
            "(June 2014 to July 2014)\n",
            "\n",
            "2.  Grid Connected PV Systems Design & Installation Course from GSES India\n",
            "Sustainable Energy                             Pvt. Ltd. New Delhi\n",
            "[pic]\n",
            "Software\n",
            "\n",
            "\n",
            "    • PV Syst\n",
            "    • MS Excel\n",
            "    • MS Office\n",
            "\n",
            "\n",
            "\n",
            "[pic]\n",
            "\n",
            "Educational & Professional Credentials:\n",
            "\n",
            "BACHELOR OF TECHNOLOGY (Mechanical) 2014\n",
            "JNTU Hyderabad–– Attained 75.5%\n",
            "\n",
            "12th\n",
            "S.K.V Mandir Ramgarh   – Attained 59.9%.\n",
            "\n",
            "\n",
            " 10th\n",
            "G.M High School Ramgarh  - Attained 69.9%\n",
            "[pic]\n",
            "\n",
            " Industrial Trainings:\n",
            "\n",
            "    • 5 Weeks Summer Training in SAIL Bokaro Steel Plant (Jharkhand)\n",
            "    • 4 Weeks Summer Training in Patratu Thermal Power Station (Jharkhand)\n",
            "[pic]\n",
            "\n",
            "Personal details\n",
            "\n",
            "DATE OF BIRTH: 07th January, 1994.\n",
            "LANGUAGES: Hindi & English.\n",
            "PERMANENT ADDRESS: Surya Nagar Road No-4, Ramgarh Cantt-829122 (Jharkhand).\n",
            "\n",
            "REFERENCES: Available on request.\n",
            "\n",
            "[pic]\n",
            "\n",
            "\n",
            "\n",
            "\n",
            "                                            (Deepak Kumar Tiwary)\n",
            "Date: 26th April, 2017\n",
            "Place: Srinagar\n",
            "\n",
            "\n",
            "\n",
            "\n"
          ],
          "name": "stdout"
        }
      ]
    },
    {
      "cell_type": "code",
      "metadata": {
        "id": "Zs3bV6pYhUNA",
        "colab_type": "code",
        "outputId": "ce91818f-ad00-45b6-8651-59568e96c0eb",
        "colab": {
          "base_uri": "https://localhost:8080/",
          "height": 315
        }
      },
      "source": [
        "words = word_tokenize(\"t\")\n",
        "words_length = [len(w) for w\n",
        " in words]\n",
        "plt.hist(words_length)"
      ],
      "execution_count": 4,
      "outputs": [
        {
          "output_type": "execute_result",
          "data": {
            "text/plain": [
              "(array([0., 0., 0., 0., 0., 1., 0., 0., 0., 0.]),\n",
              " array([0.5, 0.6, 0.7, 0.8, 0.9, 1. , 1.1, 1.2, 1.3, 1.4, 1.5]),\n",
              " <a list of 10 Patch objects>)"
            ]
          },
          "metadata": {
            "tags": []
          },
          "execution_count": 4
        },
        {
          "output_type": "display_data",
          "data": {
            "image/png": "[encoded data removed]",
            "text/plain": [
              "<Figure size 432x288 with 1 Axes>"
            ]
          },
          "metadata": {
            "tags": [],
            "needs_background": "light"
          }
        }
      ]
    },
    {
      "cell_type": "code",
      "metadata": {
        "id": "ZsWIz_tsnyO9",
        "colab_type": "code",
        "colab": {}
      },
      "source": [
        "import textract\n",
        "\n",
        "text = textract.process(\"/content/10.docx\")\n",
        "text = text.decode(\"utf-8\")"
      ],
      "execution_count": 0,
      "outputs": []
    },
    {
      "cell_type": "code",
      "metadata": {
        "id": "iQKvaFUssQ-c",
        "colab_type": "code",
        "outputId": "3ac72f86-4b0b-4e7b-bb22-b458b107baff",
        "colab": {
          "base_uri": "https://localhost:8080/",
          "height": 1000
        }
      },
      "source": [
        "b = print(text)"
      ],
      "execution_count": 6,
      "outputs": [
        {
          "output_type": "stream",
          "text": [
            "RESUME\n",
            "\n",
            "Parul Chauhan\n",
            "\n",
            "House No.3148, New housing Board,\n",
            "\n",
            "Sec.13, Distt. Bhiwani,\n",
            "\n",
            "Haryana - 127021\n",
            "\n",
            "Contact No.- 9896091934\n",
            "\n",
            "\t                      8826772901\t\n",
            "\n",
            "E-Mail id-parulch92@gmail.com\n",
            "\n",
            "\n",
            "\n",
            "CAREER OBJECTIVE:\n",
            "\n",
            "\tTo work in an environment that is intellectually stimulating, values merit and provide opportunities for personal and organizational growth.\n",
            "\n",
            "\tEasily adjustable in new atmosphere. \n",
            "\n",
            "\n",
            "\n",
            "\n",
            "\n",
            "EDUCATIONAL QUALIFICATION:-\n",
            "\n",
            "\t\t10th Passed from Haryana Board.\n",
            "\n",
            "\t\t12th Passed from National Open School, Delhi. \n",
            "\n",
            "\t\tBBA from M.S.U. Tamilnaidu.\n",
            "\n",
            "\n",
            "\n",
            "\n",
            "\n",
            "Work Experience :-\n",
            "\n",
            "\t\tPresently work in Hero MotoCorp Ltd. Gurgaon.\n",
            "\n",
            "\t\t3 years work experience as a Computer & CCTV operator.\n",
            "\n",
            "\n",
            "\n",
            "\n",
            "\n",
            "HOBBIES:-\n",
            "\n",
            "\t\tReading Books.\n",
            "\n",
            "\t\tInternet surfing.\n",
            "\n",
            "\n",
            "\n",
            "\n",
            "\n",
            "PERSONAL DETAIL:-\n",
            "\n",
            "Father’s Name\t\t:\tSh.Yash Pal Singh\n",
            "\n",
            "Mother’s Name\t\t:\tSmt.Rajni Devi \n",
            "\n",
            "Date of birth\t            :           19/06/1992\n",
            "\n",
            "Nationality\t\t:           Indian\n",
            "\n",
            "Sex\t                        :           Male\n",
            "\n",
            "Marital Status\t            :\tMarried\n",
            "\n",
            "Language known\t:           English, Hindi\n",
            "\n",
            "\n",
            "\n",
            "\n",
            "\n",
            "DECLARATION: -\n",
            "\n",
            "\n",
            "\n",
            "\t\tI hereby declare that all the statement made in this application are true to the best of my knowledge and belief \n",
            "\n",
            "\n",
            "\n",
            "Date :\t………………………..\n",
            "\n",
            "\n",
            "\n",
            "Place:\t………………………..\t\t\t\t\t\t           (Parul Chauhan)\n"
          ],
          "name": "stdout"
        }
      ]
    },
    {
      "cell_type": "code",
      "metadata": {
        "id": "NS8_W63XsauZ",
        "colab_type": "code",
        "outputId": "70edaf9e-3452-4c54-d301-318466597235",
        "colab": {
          "base_uri": "https://localhost:8080/",
          "height": 315
        }
      },
      "source": [
        "words = word_tokenize(\"b\")\n",
        "words_length = [len(w) for w\n",
        " in words]\n",
        "plt.hist(words_length)"
      ],
      "execution_count": 7,
      "outputs": [
        {
          "output_type": "execute_result",
          "data": {
            "text/plain": [
              "(array([0., 0., 0., 0., 0., 1., 0., 0., 0., 0.]),\n",
              " array([0.5, 0.6, 0.7, 0.8, 0.9, 1. , 1.1, 1.2, 1.3, 1.4, 1.5]),\n",
              " <a list of 10 Patch objects>)"
            ]
          },
          "metadata": {
            "tags": []
          },
          "execution_count": 7
        },
        {
          "output_type": "display_data",
          "data": {
            "image/png": "[encoded data removed]",
            "text/plain": [
              "<Figure size 432x288 with 1 Axes>"
            ]
          },
          "metadata": {
            "tags": [],
            "needs_background": "light"
          }
        }
      ]
    },
    {
      "cell_type": "code",
      "metadata": {
        "id": "jha2hjhasflz",
        "colab_type": "code",
        "colab": {}
      },
      "source": [
        "import textract\n",
        "\n",
        "text = textract.process(\"/content/100.doc\")\n",
        "text = text.decode(\"utf-8\")"
      ],
      "execution_count": 0,
      "outputs": []
    },
    {
      "cell_type": "code",
      "metadata": {
        "id": "PDWSA30itGry",
        "colab_type": "code",
        "outputId": "fea9dee5-d4c9-4050-e9c7-49188b976272",
        "colab": {
          "base_uri": "https://localhost:8080/",
          "height": 1000
        }
      },
      "source": [
        "c = print(text)"
      ],
      "execution_count": 9,
      "outputs": [
        {
          "output_type": "stream",
          "text": [
            "\n",
            "                             Curriculum – Viate\n",
            "\n",
            "Present Address:,\n",
            "H. No. 93, Gali No. 1\n",
            "Bhawani Enclave\n",
            "Gurgaon (Hr)122001\n",
            "Mob. No. 9718300128\n",
            "\n",
            "            E-Mail-friendsvivek774@gmail.com\n",
            "Vivek Kumar\n",
            "                                                     __________\n",
            "\n",
            ".\n",
            "\n",
            "Objective:\n",
            "\n",
            "I always make an effort to given continuity & honest in my work with\n",
            "acceleration and compact capability.\n",
            "To serve and enter a  symbiotic  relationship  with  a  dynamic  and  growth\n",
            "oriented organization which can utilize the inherit  talent  .The  incumbent\n",
            "to the maximum work on challenging and dynamic project  with  good  mean  in\n",
            "fully to organization objective.\n",
            "\n",
            "Educational Qualification\n",
            "\n",
            "  ➢ B. A -       Maghad University Bodhgaya Bihar.\n",
            "  ➢ 12th -        BSEB in 2010.\n",
            "  ➢ 10th -        BSEB in 2007.\n",
            "\n",
            "Professional Qualification:\n",
            "\n",
            "\n",
            "      ➢ One year Diploma in Computer from Gurgaon with 70%.\n",
            "      ➢  MS  Office  Complete.  Tally,  Photo  Shop,  C,C++  Language   and\n",
            "        Internet.\n",
            "\n",
            "\n",
            "\n",
            "\n",
            "Achievement & Awards\n",
            "\n",
            "    ➢ Active member of various Skit  &  Dancing  competitions  conducted  at\n",
            "      school level.\n",
            "    ➢ Participated in Cricket & Handball  competition  conducted  at  school\n",
            "      level.\n",
            "\n",
            "Experience:\n",
            "    ➢ One year worked with Sunvisor India Pvt. Ltd. Gurgaon  as  a  Computer\n",
            "      Operator Department & Store.\n",
            "    ➢ 2 years worked with S.S Lootha  Construction  LLC  Dubai  (UAE)  as  a\n",
            "      Computer  Operator  &  Store  Department.  From   24  .10.   2013   to\n",
            "      24.10.2015.\n",
            "    ➢  Presently Working in Airtel Broadband  (under DSA) as a Team Leader.\n",
            "\n",
            "Job Responsibility\n",
            "    >Team Handling\n",
            "    >Keeping Data, Recording Data, Analysis Data\n",
            "    >Make Salary and Analysis Salary\n",
            "    >  Communicate with employees and business heads for better alignment\n",
            "    >Short out Query of Customer .\n",
            "    >Maintain employee records and files\n",
            "\n",
            "\n",
            "\n",
            "\n",
            "\n",
            "\n",
            "\n",
            "\n",
            "\n",
            "\n",
            "\n",
            "Strengths\n",
            "\n",
            "\n",
            "    ➢ Hard worker.\n",
            "    ➢ Strong Positive Attitude t.\n",
            "\n",
            "    ➢ Never compromise with work.\n",
            "\n",
            "    ➢ Hobbies :\n",
            "                              Reading books,\n",
            "              Playing Cricket &\n",
            "              Work on Computer in (Chatting).\n",
            "\n",
            "\n",
            "\n",
            "\n",
            "Personal Details:\n",
            "\n",
            "Name                         :          Vivek Kumar\n",
            "\n",
            "Father’s Name                     :          Sh. Janeshwar Parsad\n",
            "\n",
            "Date of Birth                     :          31.05.1991\n",
            "\n",
            "Nationality                       :          Indian\n",
            "\n",
            "Marital Status                    :          Married\n",
            "\n",
            "Hobbies                      :          Playing Cricket &\n",
            "                                       Work on Computer\n",
            "\n",
            "\n",
            "Salary Expected              :          Negotiable\n",
            "Permanent Address                            :                       Vill  :\n",
            "Rasulpur, Post : Haspura,\n",
            "\n",
            "        Dist : Aurangabad (Bihar)-824120\n",
            "\n",
            "\n",
            "\n",
            "Declaration:-\n",
            "\n",
            "   I hereby declare that all the above information is true to the best of my\n",
            "   ability, knowledge & to the entire satisfactions of my superiors.\n",
            "\n",
            "\n",
            "Date:\n",
            "Place:                                                        (Vivek Kumar)\n",
            "\n",
            "\n",
            "\n",
            "\n"
          ],
          "name": "stdout"
        }
      ]
    },
    {
      "cell_type": "code",
      "metadata": {
        "id": "0xToqBUwtIto",
        "colab_type": "code",
        "outputId": "d935d0d3-1947-42fc-b1f7-f64fe1e167bc",
        "colab": {
          "base_uri": "https://localhost:8080/",
          "height": 315
        }
      },
      "source": [
        "words = word_tokenize(\"c\")\n",
        "words_length = [len(w) for w\n",
        " in words]\n",
        "plt.hist(words_length)"
      ],
      "execution_count": 10,
      "outputs": [
        {
          "output_type": "execute_result",
          "data": {
            "text/plain": [
              "(array([0., 0., 0., 0., 0., 1., 0., 0., 0., 0.]),\n",
              " array([0.5, 0.6, 0.7, 0.8, 0.9, 1. , 1.1, 1.2, 1.3, 1.4, 1.5]),\n",
              " <a list of 10 Patch objects>)"
            ]
          },
          "metadata": {
            "tags": []
          },
          "execution_count": 10
        },
        {
          "output_type": "display_data",
          "data": {
            "image/png": "[encoded data removed]",
            "text/plain": [
              "<Figure size 432x288 with 1 Axes>"
            ]
          },
          "metadata": {
            "tags": [],
            "needs_background": "light"
          }
        }
      ]
    },
    {
      "cell_type": "code",
      "metadata": {
        "id": "vIrKeqPMtNym",
        "colab_type": "code",
        "colab": {}
      },
      "source": [
        "import textract\n",
        "\n",
        "text = textract.process(\"/content/12.pdf\")\n",
        "text = text.decode(\"utf-8\")"
      ],
      "execution_count": 0,
      "outputs": []
    },
    {
      "cell_type": "code",
      "metadata": {
        "id": "NG1DH7GKtUj2",
        "colab_type": "code",
        "outputId": "9dc4cf9e-5bff-41fd-fc14-8fc151ba4b09",
        "colab": {
          "base_uri": "https://localhost:8080/",
          "height": 1000
        }
      },
      "source": [
        "q = print(text)"
      ],
      "execution_count": 12,
      "outputs": [
        {
          "output_type": "stream",
          "text": [
            "Aftab Alam\n",
            "\n",
            "aftabalamkingkhan100@gmail.com\n",
            "+91 9790765558\n",
            "\n",
            "Human resource\n",
            "\n",
            "No 25/36 perumal 1st st ,purasawalkam, Chennai,\n",
            "India\n",
            "\n",
            "To work for an organization that gives\n",
            "opportunities for innovation of new ideas and to\n",
            "work as a team member to achieve\n",
            "Organizational goals, to the best of my abilities.\n",
            "\n",
            "WORK EXPERIENCE\n",
            "\n",
            "SKILLS\n",
            "\n",
            "HR Assistant\n",
            "SALMA INTERNATIONAL\n",
            "05/2016 – 12/2017\n",
            "\n",
            "VERY QUICK LEARNER\n",
            "CHENNAI\n",
            "\n",
            "chennai\n",
            "\n",
            "chennai\n",
            "\n",
            "chennai\n",
            "\n",
            "Trainee in HR Department\n",
            "Future Value Retail (Big Bazaar)\n",
            "08/2014 – 09/2014\n",
            "\n",
            "chennai\n",
            "\n",
            "MA\n",
            "Madras School Of Social Work\n",
            "72%\n",
            "\n",
            "TAMIL\n",
            "BENGALI\n",
            "\n",
            "B.COM\n",
            "The New College, Chennai\n",
            "62%\n",
            "\n",
            "Courses\n",
            "\n",
            "Corporate secretaryship\n",
            "\n",
            "COMMERCE ECONOMIC\n",
            "ACCOUNTS , COMPUTER\n",
            "SCIENCE\n",
            "\n",
            "INTERESTS\n",
            "HR Executive\n",
            "\n",
            "HR Generalist\n",
            "\n",
            "Employee Relation\n",
            "\n",
            "HSC\n",
            "Baynes Memorial Baptist Church\n",
            "Matriculation Higher Secondary\n",
            "School,Chennai\n",
            "Courses\n",
            "\n",
            "HINDI\n",
            "URDU\n",
            "\n",
            "HR & OD\n",
            "\n",
            "2011\n",
            "\n",
            "Organized and managed College departmental Event\n",
            "“ Bhavishya 2014 “\n",
            "\n",
            "ENGLISH\n",
            "\n",
            "Courses\n",
            "\n",
            "06/2011 – 04/2014\n",
            "\n",
            "Completed MS Oﬃce, Tally ERP 9 from Apollo\n",
            "Computer Education Ltd.\n",
            "\n",
            "LANGUAGES\n",
            "\n",
            "EDUCATION\n",
            "\n",
            "06/2014 – 06/2016\n",
            "\n",
            "EXTRA CURRICULAR ACTIVITIES\n",
            "Completed a course on Neuro-Linguistic\n",
            "programming (NLP Foundation Workshop Training)\n",
            "certiﬁcate accredited to One Fluencer Institute.\n",
            "\n",
            "Trainee in HR Departement ( Field work)\n",
            "Benzz Park\n",
            "12/2014 – 02/2015\n",
            "\n",
            "PERSONAL PROJECTS\n",
            "EMPLOYS RELATIONSHIP WITH MANAGEMENT\n",
            "(08/2015 – 09/2015)\n",
            "\n",
            "Trainee ( Block Placement and Research\n",
            "Project)\n",
            "Salma International\n",
            "08/2015 – 09/2015\n",
            "\n",
            "INNOVATIVE PERSON\n",
            "\n",
            "INTERACTIVE PERSON\n",
            "\n",
            "INTERNSHIP (Trainee in HR Department)\n",
            "Bharat textile & prooﬁng industries\n",
            "02/2016 – 03/2016\n",
            "\n",
            "SELF CONFIDENCE\n",
            "\n",
            "GOOD COMMUNICATION\n",
            "\n",
            "ADMIN\n",
            "\n",
            "76%\n",
            "\n",
            "HR Recruiter\n",
            "\n",
            "BDE( Both IT& Non-IT)\n",
            "\n",
            "HR Assistant\n",
            "\n",
            "\f\n"
          ],
          "name": "stdout"
        }
      ]
    },
    {
      "cell_type": "code",
      "metadata": {
        "id": "b-E8alJptYiJ",
        "colab_type": "code",
        "outputId": "a7a759c5-85d4-4b25-fd7a-02b806fbc7a5",
        "colab": {
          "base_uri": "https://localhost:8080/",
          "height": 315
        }
      },
      "source": [
        "words = word_tokenize(\"q\")\n",
        "words_length = [len(w) for w\n",
        " in words]\n",
        "plt.hist(words_length)"
      ],
      "execution_count": 13,
      "outputs": [
        {
          "output_type": "execute_result",
          "data": {
            "text/plain": [
              "(array([0., 0., 0., 0., 0., 1., 0., 0., 0., 0.]),\n",
              " array([0.5, 0.6, 0.7, 0.8, 0.9, 1. , 1.1, 1.2, 1.3, 1.4, 1.5]),\n",
              " <a list of 10 Patch objects>)"
            ]
          },
          "metadata": {
            "tags": []
          },
          "execution_count": 13
        },
        {
          "output_type": "display_data",
          "data": {
            "image/png": "[encoded data removed]",
            "text/plain": [
              "<Figure size 432x288 with 1 Axes>"
            ]
          },
          "metadata": {
            "tags": [],
            "needs_background": "light"
          }
        }
      ]
    },
    {
      "cell_type": "code",
      "metadata": {
        "id": "d9tOtBnZtcnW",
        "colab_type": "code",
        "colab": {}
      },
      "source": [
        "from collections import Counter"
      ],
      "execution_count": 0,
      "outputs": []
    },
    {
      "cell_type": "code",
      "metadata": {
        "id": "SIXzpyag7-A1",
        "colab_type": "code",
        "outputId": "7db17ffe-68ad-4c27-8172-90b1246eef27",
        "colab": {
          "base_uri": "https://localhost:8080/",
          "height": 34
        }
      },
      "source": [
        "Counter(word_tokenize(\"q\"))"
      ],
      "execution_count": 15,
      "outputs": [
        {
          "output_type": "execute_result",
          "data": {
            "text/plain": [
              "Counter({'q': 1})"
            ]
          },
          "metadata": {
            "tags": []
          },
          "execution_count": 15
        }
      ]
    },
    {
      "cell_type": "code",
      "metadata": {
        "id": "SXbtLOym8Tns",
        "colab_type": "code",
        "colab": {}
      },
      "source": [
        "#Counter.most_common(2)"
      ],
      "execution_count": 0,
      "outputs": []
    },
    {
      "cell_type": "code",
      "metadata": {
        "id": "wbf1U0pj8bOo",
        "colab_type": "code",
        "colab": {}
      },
      "source": [
        "text = \"q\"\n",
        "tokens = [w for w in word_tokenize(text.lower())\n",
        "         if w.isalpha()]"
      ],
      "execution_count": 0,
      "outputs": []
    },
    {
      "cell_type": "code",
      "metadata": {
        "id": "s1Itko1OL-4y",
        "colab_type": "code",
        "colab": {}
      },
      "source": [
        "no_stops = [t for t in tokens\n",
        "            if t not in stopwords.words('english')]"
      ],
      "execution_count": 0,
      "outputs": []
    },
    {
      "cell_type": "code",
      "metadata": {
        "id": "-0w8PGelMYMz",
        "colab_type": "code",
        "colab": {
          "base_uri": "https://localhost:8080/",
          "height": 34
        },
        "outputId": "7f3a5d5a-da9f-4a73-a138-e02cc4af09ee"
      },
      "source": [
        "Counter(no_stops).most_common(2)"
      ],
      "execution_count": 22,
      "outputs": [
        {
          "output_type": "execute_result",
          "data": {
            "text/plain": [
              "[('q', 1)]"
            ]
          },
          "metadata": {
            "tags": []
          },
          "execution_count": 22
        }
      ]
    },
    {
      "cell_type": "code",
      "metadata": {
        "id": "AFUjhIVAMu1V",
        "colab_type": "code",
        "colab": {}
      },
      "source": [
        "#alpha_only = [t for t in lower_tokens if t.isalpha()]\n",
        "#no_stops = [t for t in alpha_only if t not in english_stops]"
      ],
      "execution_count": 0,
      "outputs": []
    },
    {
      "cell_type": "code",
      "metadata": {
        "id": "EHOO2LW_N-CH",
        "colab_type": "code",
        "colab": {}
      },
      "source": [
        "from gensim.corpora.dictionary import Dictionary"
      ],
      "execution_count": 0,
      "outputs": []
    },
    {
      "cell_type": "code",
      "metadata": {
        "id": "LqimTie2Pdjy",
        "colab_type": "code",
        "colab": {}
      },
      "source": [
        "my_documents = [\"q\"]"
      ],
      "execution_count": 0,
      "outputs": []
    },
    {
      "cell_type": "code",
      "metadata": {
        "id": "n49zjL92PjKE",
        "colab_type": "code",
        "colab": {}
      },
      "source": [
        "tokenized_docs = [word_tokenize(doc.lower())\n",
        "                  for doc in my_documents]"
      ],
      "execution_count": 0,
      "outputs": []
    },
    {
      "cell_type": "code",
      "metadata": {
        "id": "XWX0NP8WPwKW",
        "colab_type": "code",
        "colab": {
          "base_uri": "https://localhost:8080/",
          "height": 34
        },
        "outputId": "12f49bf5-809a-440e-b7ec-d4cc287a6e64"
      },
      "source": [
        "dictionary = Dictionary(q)\n",
        "COURSE = dictionary.token2id.get(\"Courses\")\n",
        "print(dictionary.get(COURSE))\n",
        "corpus = [dictionary.doc2bow(q) for q in tokenized_docs]\n",
        "#corpus = [dictionary.doc2bow(Courses) for Course in Courses]"
      ],
      "execution_count": 60,
      "outputs": [
        {
          "output_type": "stream",
          "text": [
            "None\n"
          ],
          "name": "stdout"
        }
      ]
    },
    {
      "cell_type": "code",
      "metadata": {
        "id": "HmefWLewQNMu",
        "colab_type": "code",
        "colab": {
          "base_uri": "https://localhost:8080/",
          "height": 212
        },
        "outputId": "4574b99c-cc38-4262-80f6-69adc5c5da8e"
      },
      "source": [
        "bow_doc = sorted(my_documents, key=lambda w: w[1], reverse=True)"
      ],
      "execution_count": 61,
      "outputs": [
        {
          "output_type": "error",
          "ename": "IndexError",
          "evalue": "ignored",
          "traceback": [
            "\u001b[0;31m---------------------------------------------------------------------------\u001b[0m",
            "\u001b[0;31mIndexError\u001b[0m                                Traceback (most recent call last)",
            "\u001b[0;32m<ipython-input-61-7932c522b24e>\u001b[0m in \u001b[0;36m<module>\u001b[0;34m()\u001b[0m\n\u001b[0;32m----> 1\u001b[0;31m \u001b[0mbow_doc\u001b[0m \u001b[0;34m=\u001b[0m \u001b[0msorted\u001b[0m\u001b[0;34m(\u001b[0m\u001b[0mmy_documents\u001b[0m\u001b[0;34m,\u001b[0m \u001b[0mkey\u001b[0m\u001b[0;34m=\u001b[0m\u001b[0;32mlambda\u001b[0m \u001b[0mw\u001b[0m\u001b[0;34m:\u001b[0m \u001b[0mw\u001b[0m\u001b[0;34m[\u001b[0m\u001b[0;36m1\u001b[0m\u001b[0;34m]\u001b[0m\u001b[0;34m,\u001b[0m \u001b[0mreverse\u001b[0m\u001b[0;34m=\u001b[0m\u001b[0;32mTrue\u001b[0m\u001b[0;34m)\u001b[0m\u001b[0;34m\u001b[0m\u001b[0;34m\u001b[0m\u001b[0m\n\u001b[0m",
            "\u001b[0;32m<ipython-input-61-7932c522b24e>\u001b[0m in \u001b[0;36m<lambda>\u001b[0;34m(w)\u001b[0m\n\u001b[0;32m----> 1\u001b[0;31m \u001b[0mbow_doc\u001b[0m \u001b[0;34m=\u001b[0m \u001b[0msorted\u001b[0m\u001b[0;34m(\u001b[0m\u001b[0mmy_documents\u001b[0m\u001b[0;34m,\u001b[0m \u001b[0mkey\u001b[0m\u001b[0;34m=\u001b[0m\u001b[0;32mlambda\u001b[0m \u001b[0mw\u001b[0m\u001b[0;34m:\u001b[0m \u001b[0mw\u001b[0m\u001b[0;34m[\u001b[0m\u001b[0;36m1\u001b[0m\u001b[0;34m]\u001b[0m\u001b[0;34m,\u001b[0m \u001b[0mreverse\u001b[0m\u001b[0;34m=\u001b[0m\u001b[0;32mTrue\u001b[0m\u001b[0;34m)\u001b[0m\u001b[0;34m\u001b[0m\u001b[0;34m\u001b[0m\u001b[0m\n\u001b[0m",
            "\u001b[0;31mIndexError\u001b[0m: string index out of range"
          ]
        }
      ]
    },
    {
      "cell_type": "code",
      "metadata": {
        "id": "ZiQOp094Uooy",
        "colab_type": "code",
        "colab": {
          "base_uri": "https://localhost:8080/",
          "height": 229
        },
        "outputId": "ec1c8b85-65f4-4e2a-8d4a-22bc3a5300c5"
      },
      "source": [
        "q = corpus[0]\n",
        "\n",
        "# Sort the doc for frequency: bow_doc\n",
        "bow_doc = sorted(my_documents, key=lambda w: w[0], reverse=True)\n",
        "\n",
        "# Print the top 5 words of the document alongside the count\n",
        "for word_id, word_count in bow_doc[:5]:\n",
        "    print(dictionary.get(word_id), word_count)\n",
        "    \n",
        "# Create the defaultdict: total_word_count\n",
        "total_word_count = defaultdict(int)\n",
        "for word_id, word_count in itertools.chain.from_iterable(corpus):\n",
        "    total_word_count[word_id] += word_count"
      ],
      "execution_count": 68,
      "outputs": [
        {
          "output_type": "error",
          "ename": "ValueError",
          "evalue": "ignored",
          "traceback": [
            "\u001b[0;31m---------------------------------------------------------------------------\u001b[0m",
            "\u001b[0;31mValueError\u001b[0m                                Traceback (most recent call last)",
            "\u001b[0;32m<ipython-input-68-335b7af13f1c>\u001b[0m in \u001b[0;36m<module>\u001b[0;34m()\u001b[0m\n\u001b[1;32m      5\u001b[0m \u001b[0;34m\u001b[0m\u001b[0m\n\u001b[1;32m      6\u001b[0m \u001b[0;31m# Print the top 5 words of the document alongside the count\u001b[0m\u001b[0;34m\u001b[0m\u001b[0;34m\u001b[0m\u001b[0;34m\u001b[0m\u001b[0m\n\u001b[0;32m----> 7\u001b[0;31m \u001b[0;32mfor\u001b[0m \u001b[0mword_id\u001b[0m\u001b[0;34m,\u001b[0m \u001b[0mword_count\u001b[0m \u001b[0;32min\u001b[0m \u001b[0mbow_doc\u001b[0m\u001b[0;34m[\u001b[0m\u001b[0;34m:\u001b[0m\u001b[0;36m5\u001b[0m\u001b[0;34m]\u001b[0m\u001b[0;34m:\u001b[0m\u001b[0;34m\u001b[0m\u001b[0;34m\u001b[0m\u001b[0m\n\u001b[0m\u001b[1;32m      8\u001b[0m     \u001b[0mprint\u001b[0m\u001b[0;34m(\u001b[0m\u001b[0mdictionary\u001b[0m\u001b[0;34m.\u001b[0m\u001b[0mget\u001b[0m\u001b[0;34m(\u001b[0m\u001b[0mword_id\u001b[0m\u001b[0;34m)\u001b[0m\u001b[0;34m,\u001b[0m \u001b[0mword_count\u001b[0m\u001b[0;34m)\u001b[0m\u001b[0;34m\u001b[0m\u001b[0;34m\u001b[0m\u001b[0m\n\u001b[1;32m      9\u001b[0m \u001b[0;34m\u001b[0m\u001b[0m\n",
            "\u001b[0;31mValueError\u001b[0m: not enough values to unpack (expected 2, got 1)"
          ]
        }
      ]
    },
    {
      "cell_type": "code",
      "metadata": {
        "id": "bHqLSMH9XTqh",
        "colab_type": "code",
        "colab": {
          "base_uri": "https://localhost:8080/",
          "height": 229
        },
        "outputId": "677fcdcd-de6f-48cb-fae6-c0d1ccb9cd17"
      },
      "source": [
        "doc = corpus[4]\n",
        "\n",
        "# Sort the doc for frequency: bow_doc\n",
        "bow_doc = sorted(doc, key=lambda w: w[1], reverse=True)\n",
        "\n",
        "# Print the top 5 words of the document alongside the count\n",
        "for word_id, word_count in bow_doc[:5]:\n",
        "    print(dictionary.get(word_id), word_count)\n",
        "    \n",
        "# Create the defaultdict: total_word_count\n",
        "total_word_count = defaultdict(int)\n",
        "for word_id, word_count in itertools.chain.from_iterable(corpus):\n",
        "    total_word_count[word_id] += word_count\n",
        "\n",
        "# Create a sorted list from the defaultdict: sorted_word_count \n",
        "sorted_word_count = sorted(total_word_count.items(), key=lambda w: w[1], reverse=True) \n",
        "\n",
        "# Print the top 5 words across all documents alongside the count\n",
        "for word_id, word_count in sorted_word_count[:5]:\n",
        "    print(dictionary.get(word_id), word_count)"
      ],
      "execution_count": 69,
      "outputs": [
        {
          "output_type": "error",
          "ename": "IndexError",
          "evalue": "ignored",
          "traceback": [
            "\u001b[0;31m---------------------------------------------------------------------------\u001b[0m",
            "\u001b[0;31mIndexError\u001b[0m                                Traceback (most recent call last)",
            "\u001b[0;32m<ipython-input-69-8c2b35d1c60c>\u001b[0m in \u001b[0;36m<module>\u001b[0;34m()\u001b[0m\n\u001b[0;32m----> 1\u001b[0;31m \u001b[0mdoc\u001b[0m \u001b[0;34m=\u001b[0m \u001b[0mcorpus\u001b[0m\u001b[0;34m[\u001b[0m\u001b[0;36m4\u001b[0m\u001b[0;34m]\u001b[0m\u001b[0;34m\u001b[0m\u001b[0;34m\u001b[0m\u001b[0m\n\u001b[0m\u001b[1;32m      2\u001b[0m \u001b[0;34m\u001b[0m\u001b[0m\n\u001b[1;32m      3\u001b[0m \u001b[0;31m# Sort the doc for frequency: bow_doc\u001b[0m\u001b[0;34m\u001b[0m\u001b[0;34m\u001b[0m\u001b[0;34m\u001b[0m\u001b[0m\n\u001b[1;32m      4\u001b[0m \u001b[0mbow_doc\u001b[0m \u001b[0;34m=\u001b[0m \u001b[0msorted\u001b[0m\u001b[0;34m(\u001b[0m\u001b[0mdoc\u001b[0m\u001b[0;34m,\u001b[0m \u001b[0mkey\u001b[0m\u001b[0;34m=\u001b[0m\u001b[0;32mlambda\u001b[0m \u001b[0mw\u001b[0m\u001b[0;34m:\u001b[0m \u001b[0mw\u001b[0m\u001b[0;34m[\u001b[0m\u001b[0;36m1\u001b[0m\u001b[0;34m]\u001b[0m\u001b[0;34m,\u001b[0m \u001b[0mreverse\u001b[0m\u001b[0;34m=\u001b[0m\u001b[0;32mTrue\u001b[0m\u001b[0;34m)\u001b[0m\u001b[0;34m\u001b[0m\u001b[0;34m\u001b[0m\u001b[0m\n\u001b[1;32m      5\u001b[0m \u001b[0;34m\u001b[0m\u001b[0m\n",
            "\u001b[0;31mIndexError\u001b[0m: list index out of range"
          ]
        }
      ]
    },
    {
      "cell_type": "code",
      "metadata": {
        "id": "0BPr5vhzY2iy",
        "colab_type": "code",
        "colab": {}
      },
      "source": [
        "from gensim.models.tfidfmodel import TfidfModel\n",
        "tfid = TfidfModel(q)"
      ],
      "execution_count": 0,
      "outputs": []
    },
    {
      "cell_type": "code",
      "metadata": {
        "id": "0IbfG4RgZ347",
        "colab_type": "code",
        "colab": {
          "base_uri": "https://localhost:8080/",
          "height": 34
        },
        "outputId": "094f43a2-363f-4223-bfc0-877063f3d88a"
      },
      "source": [
        "tfid[q]\n",
        "tfid"
      ],
      "execution_count": 74,
      "outputs": [
        {
          "output_type": "execute_result",
          "data": {
            "text/plain": [
              "<gensim.models.tfidfmodel.TfidfModel at 0x7f62f636b9e8>"
            ]
          },
          "metadata": {
            "tags": []
          },
          "execution_count": 74
        }
      ]
    },
    {
      "cell_type": "code",
      "metadata": {
        "id": "WW67kA23Z8hG",
        "colab_type": "code",
        "colab": {
          "base_uri": "https://localhost:8080/",
          "height": 34
        },
        "outputId": "77f995e5-6ca1-47f3-e0a4-9728e8630cf5"
      },
      "source": [
        "tfidf = TfidfModel(q)\n",
        "tfidf_weights = tfidf[q]\n",
        "\n",
        "# Print the first five weights\n",
        "print(tfidf_weights)"
      ],
      "execution_count": 78,
      "outputs": [
        {
          "output_type": "stream",
          "text": [
            "[]\n"
          ],
          "name": "stdout"
        }
      ]
    },
    {
      "cell_type": "code",
      "metadata": {
        "id": "0ukGc6e_bgGJ",
        "colab_type": "code",
        "colab": {}
      },
      "source": [
        ""
      ],
      "execution_count": 0,
      "outputs": []
    }
  ]
}